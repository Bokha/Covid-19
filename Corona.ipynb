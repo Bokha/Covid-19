{
 "cells": [
  {
   "cell_type": "code",
   "execution_count": 1,
   "id": "48b0afa7",
   "metadata": {},
   "outputs": [
    {
     "name": "stdout",
     "output_type": "stream",
     "text": [
      "Beginning file download with urllib2...\n"
     ]
    },
    {
     "ename": "FileNotFoundError",
     "evalue": "[Errno 2] No such file or directory: 'assets/covid.csv'",
     "output_type": "error",
     "traceback": [
      "\u001b[0;31m---------------------------------------------------------------------------\u001b[0m",
      "\u001b[0;31mFileNotFoundError\u001b[0m                         Traceback (most recent call last)",
      "Input \u001b[0;32mIn [1]\u001b[0m, in \u001b[0;36m<module>\u001b[0;34m\u001b[0m\n\u001b[1;32m      5\u001b[0m \u001b[38;5;28mprint\u001b[39m(\u001b[38;5;124m'\u001b[39m\u001b[38;5;124mBeginning file download with urllib2...\u001b[39m\u001b[38;5;124m'\u001b[39m)\n\u001b[1;32m      7\u001b[0m url \u001b[38;5;241m=\u001b[39m \u001b[38;5;124m'\u001b[39m\u001b[38;5;124mhttps://raw.githubusercontent.com/CSSEGISandData/COVID-19/master/csse_covid_19_data/csse_covid_19_time_series/time_series_covid19_deaths_global.csv\u001b[39m\u001b[38;5;124m'\u001b[39m\n\u001b[0;32m----> 8\u001b[0m \u001b[43murllib\u001b[49m\u001b[38;5;241;43m.\u001b[39;49m\u001b[43mrequest\u001b[49m\u001b[38;5;241;43m.\u001b[39;49m\u001b[43murlretrieve\u001b[49m\u001b[43m(\u001b[49m\u001b[43murl\u001b[49m\u001b[43m,\u001b[49m\u001b[43m \u001b[49m\u001b[38;5;124;43m'\u001b[39;49m\u001b[38;5;124;43massets/covid.csv\u001b[39;49m\u001b[38;5;124;43m'\u001b[39;49m\u001b[43m)\u001b[49m\n\u001b[1;32m      9\u001b[0m \u001b[38;5;28;01mimport\u001b[39;00m \u001b[38;5;21;01mcsv\u001b[39;00m\n\u001b[1;32m     10\u001b[0m get_ipython()\u001b[38;5;241m.\u001b[39mrun_line_magic(\u001b[38;5;124m'\u001b[39m\u001b[38;5;124mprecision\u001b[39m\u001b[38;5;124m'\u001b[39m, \u001b[38;5;124m'\u001b[39m\u001b[38;5;124m2\u001b[39m\u001b[38;5;124m'\u001b[39m)\n",
      "File \u001b[0;32m/usr/local/Cellar/python@3.9/3.9.7_1/Frameworks/Python.framework/Versions/3.9/lib/python3.9/urllib/request.py:249\u001b[0m, in \u001b[0;36murlretrieve\u001b[0;34m(url, filename, reporthook, data)\u001b[0m\n\u001b[1;32m    247\u001b[0m \u001b[38;5;66;03m# Handle temporary file setup.\u001b[39;00m\n\u001b[1;32m    248\u001b[0m \u001b[38;5;28;01mif\u001b[39;00m filename:\n\u001b[0;32m--> 249\u001b[0m     tfp \u001b[38;5;241m=\u001b[39m \u001b[38;5;28;43mopen\u001b[39;49m\u001b[43m(\u001b[49m\u001b[43mfilename\u001b[49m\u001b[43m,\u001b[49m\u001b[43m \u001b[49m\u001b[38;5;124;43m'\u001b[39;49m\u001b[38;5;124;43mwb\u001b[39;49m\u001b[38;5;124;43m'\u001b[39;49m\u001b[43m)\u001b[49m\n\u001b[1;32m    250\u001b[0m \u001b[38;5;28;01melse\u001b[39;00m:\n\u001b[1;32m    251\u001b[0m     tfp \u001b[38;5;241m=\u001b[39m tempfile\u001b[38;5;241m.\u001b[39mNamedTemporaryFile(delete\u001b[38;5;241m=\u001b[39m\u001b[38;5;28;01mFalse\u001b[39;00m)\n",
      "\u001b[0;31mFileNotFoundError\u001b[0m: [Errno 2] No such file or directory: 'assets/covid.csv'"
     ]
    }
   ],
   "source": [
    "## assests/covid19_deaths_global.csv\n",
    "\n",
    "import urllib.request\n",
    "\n",
    "print('Beginning file download with urllib2...')\n",
    "\n",
    "url = 'https://raw.githubusercontent.com/CSSEGISandData/COVID-19/master/csse_covid_19_data/csse_covid_19_time_series/time_series_covid19_deaths_global.csv'\n",
    "urllib.request.urlretrieve(url, 'assets/covid.csv')\n",
    "import csv\n",
    "%precision 2\n",
    "with open ('assets/covid.csv', \"r\") as file:\n",
    "    deaths = list(csv.DictReader(file))\n",
    "print (len(deaths))\n",
    "print (deaths[100])\n",
    "print ('=======')\n",
    "print (deaths[100]['10/30/21'])"
   ]
  },
  {
   "cell_type": "code",
   "execution_count": null,
   "id": "db6c4950",
   "metadata": {},
   "outputs": [],
   "source": []
  },
  {
   "cell_type": "code",
   "execution_count": null,
   "id": "bd7b1ad4",
   "metadata": {},
   "outputs": [],
   "source": [
    "#lambda country: int(country['10/23/21'])-int(country['10/22/21'])>0\n",
    "    import datetime as dt\n",
    "\n",
    "def deaths_yesterday_geater_zero(country):\n",
    "    deaths_yesterday=int(country['10/23/21'])-int(country['10/22/21'])\n",
    "    return  deaths_yesterday>0\n",
    "\n",
    "def deaths_yesterday_geater_thantwo_days_ago(country):\n",
    "    yesterday= dt.datetime.now() - dt.timedelta(days=1)\n",
    "    for_yesterday= dt.datetime.now() - dt.timedelta(days=2)\n",
    "    two_days_ago=dt.datetime.now() - dt.timedelta(days=3)\n",
    "    yesterday.strftime(\"%m/%d/%y\")\n",
    "    print(\"Dates\", yesterday,for_yesterday,two_days_ago)\n",
    "    \n",
    "    \n",
    "    deaths_yesterday= int(country[yesterday.strftime(\"%m/%d/%y\")]) - int(country[for_yesterday.strftime(\"%m/%d/%y\")])\n",
    "    deaths_for_yesterday = int(country[for_yesterday.strftime(\"%m/%d/%y\")])- int(country[two_days_ago.strftime(\"%m/%d/%y\")])\n",
    "    return  deaths_yesterday>deaths_for_yesterday\n",
    "\n"
   ]
  },
  {
   "cell_type": "code",
   "execution_count": null,
   "id": "822e78ad",
   "metadata": {},
   "outputs": [],
   "source": [
    "import datetime\n",
    "countries= filter(deaths_yesterday_geater_thantwo_days_ago ,deaths)\n",
    "lista=map(lambda country: (country['Province/State'],country['Country/Region'],country[('10/23/21')]),countries)\n",
    "print(list(lista))\n",
    "\n",
    "\n",
    "          \n"
   ]
  },
  {
   "cell_type": "code",
   "execution_count": null,
   "id": "6d468d0b",
   "metadata": {},
   "outputs": [
    {
     "name": "stdout",
     "output_type": "stream",
     "text": [
      "[('', 'Afghanistan', 1), ('', 'Albania', 7), ('', 'Algeria', 3), ('', 'Angola', 2), ('', 'Antigua and Barbuda', 2), ('', 'Argentina', 4), ('', 'Armenia', 31), ('New South Wales', 'Australia', 4), ('Victoria', 'Australia', 11), ('', 'Austria', 12), ('', 'Azerbaijan', 22), ('', 'Bangladesh', 9), ('', 'Barbados', 2), ('', 'Belarus', 17), ('', 'Bolivia', 2), ('', 'Brazil', 318), ('', 'Brunei', 1), ('', 'Bulgaria', 58), ('', 'Burma', 20), ('', 'Cabo Verde', 2), ('', 'Cambodia', 10), ('New Brunswick', 'Canada', 1), ('Ontario', 'Canada', 5), ('Quebec', 'Canada', 4), ('Saskatchewan', 'Canada', 5), ('', 'Chile', 11), ('', 'Colombia', 38), ('', \"Cote d'Ivoire\", 1), ('', 'Croatia', 25), ('', 'Cuba', 14), ('', 'Cyprus', 1), ('', 'Czechia', 15), ('', 'Denmark', 1), ('', 'Dominican Republic', 6), ('', 'Egypt', 47), ('', 'El Salvador', 10), ('', 'Estonia', 5), ('', 'Eswatini', 2), ('', 'Ethiopia', 14), ('', 'France', 23), ('', 'Georgia', 42), ('', 'Germany', 24), ('', 'Ghana', 1), ('', 'Greece', 43), ('', 'Guatemala', 40), ('', 'Guyana', 1), ('', 'Honduras', 19), ('', 'India', 561), ('', 'Indonesia', 23), ('', 'Iran', 124), ('', 'Iraq', 36), ('', 'Israel', 7), ('', 'Italy', 39), ('', 'Jamaica', 22), ('', 'Japan', 5), ('', 'Jordan', 11), ('', 'Kenya', 6), ('', 'Korea, South', 21), ('', 'Kyrgyzstan', 3), ('', 'Laos', 1), ('', 'Latvia', 26), ('', 'Lebanon', 4), ('', 'Lithuania', 31), ('', 'Malaysia', 42), ('', 'Mauritania', 1), ('', 'Mexico', 306), ('', 'Moldova', 35), ('', 'Montenegro', 2), ('', 'Morocco', 6), ('', 'Mozambique', 1), ('', 'Namibia', 1), ('', 'Nepal', 8), ('', 'Netherlands', 23), ('', 'Niger', 1), ('', 'Nigeria', 1), ('', 'North Macedonia', 17), ('', 'Pakistan', 18), ('', 'Panama', 1), ('', 'Peru', 16), ('', 'Philippines', 65), ('', 'Poland', 75), ('', 'Portugal', 4), ('', 'Romania', 446), ('', 'Russia', 1048), ('', 'Rwanda', 2), ('', 'Saint Lucia', 1), ('', 'Saudi Arabia', 2), ('', 'Senegal', 1), ('', 'Serbia', 60), ('', 'Singapore', 6), ('', 'Slovakia', 9), ('', 'Slovenia', 9), ('', 'South Africa', 23), ('', 'Sri Lanka', 19), ('', 'Sudan', 61), ('', 'Suriname', 4), ('', 'Syria', 14), ('', 'Thailand', 74), ('', 'Togo', 2), ('', 'Trinidad and Tobago', 6), ('', 'Tunisia', 7), ('', 'Turkey', 217), ('', 'US', 427), ('', 'Uganda', 4), ('', 'Ukraine', 510), ('', 'United Arab Emirates', 1), ('', 'United Kingdom', 135), ('', 'Uruguay', 1), ('', 'Uzbekistan', 2), ('', 'Venezuela', 25), ('', 'Vietnam', 77), ('', 'Yemen', 3), ('', 'Zambia', 1)]\n"
     ]
    }
   ],
   "source": [
    "countries= filter(lambda country: int(country['10/23/21'])-int(country['10/22/21'])>0,deaths)\n",
    "lista=map(lambda country: (country['Province/State'],country['Country/Region'],int(country['10/23/21'])-int(country['10/22/21'])),countries)\n",
    "print(list(lista))\n"
   ]
  },
  {
   "cell_type": "code",
   "execution_count": null,
   "id": "ed0874c3",
   "metadata": {
    "scrolled": true
   },
   "outputs": [
    {
     "data": {
      "text/plain": [
       "'2558'"
      ]
     },
     "execution_count": 31,
     "metadata": {},
     "output_type": "execute_result"
    }
   ],
   "source": [
    "find_syria= filter(lambda country:  country['Country/Region']== \"Syria\",deaths)\n",
    "list(find_syria)[0]['10/31/21']"
   ]
  },
  {
   "cell_type": "code",
   "execution_count": null,
   "id": "ec38eae7",
   "metadata": {},
   "outputs": [
    {
     "ename": "AssertionError",
     "evalue": "",
     "output_type": "error",
     "traceback": [
      "\u001b[0;31m---------------------------------------------------------------------------\u001b[0m",
      "\u001b[0;31mAssertionError\u001b[0m                            Traceback (most recent call last)",
      "\u001b[0;32m<ipython-input-34-44c7a3f49334>\u001b[0m in \u001b[0;36m<module>\u001b[0;34m\u001b[0m\n\u001b[1;32m      5\u001b[0m     \u001b[0;32mreturn\u001b[0m \u001b[0;36m0\u001b[0m\u001b[0;34m\u001b[0m\u001b[0;34m\u001b[0m\u001b[0m\n\u001b[1;32m      6\u001b[0m \u001b[0;34m\u001b[0m\u001b[0m\n\u001b[0;32m----> 7\u001b[0;31m \u001b[0;32massert\u001b[0m \u001b[0mget_death_by_country_name\u001b[0m\u001b[0;34m(\u001b[0m\u001b[0;34m\"Syria\"\u001b[0m\u001b[0;34m)\u001b[0m \u001b[0;34m==\u001b[0m \u001b[0;36m575\u001b[0m\u001b[0;34m\u001b[0m\u001b[0;34m\u001b[0m\u001b[0m\n\u001b[0m",
      "\u001b[0;31mAssertionError\u001b[0m: "
     ]
    }
   ],
   "source": [
    "def get_death_by_country_name(country_name):\n",
    "    # download file\n",
    "    # read file\n",
    "    # return death of country_name fomr yesterday\n",
    "    return 0\n",
    "    "
   ]
  },
  {
   "cell_type": "code",
   "execution_count": null,
   "id": "45b4764f",
   "metadata": {},
   "outputs": [],
   "source": []
  }
 ],
 "metadata": {
  "kernelspec": {
   "display_name": "Python 3",
   "language": "python",
   "name": "python3"
  },
  "language_info": {
   "codemirror_mode": {
    "name": "ipython",
    "version": 3
   },
   "file_extension": ".py",
   "mimetype": "text/x-python",
   "name": "python",
   "nbconvert_exporter": "python",
   "pygments_lexer": "ipython3",
   "version": "3.9.7"
  }
 },
 "nbformat": 4,
 "nbformat_minor": 5
}
