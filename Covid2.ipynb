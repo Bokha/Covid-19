{
 "cells": [
  {
   "cell_type": "code",
   "execution_count": 4,
   "id": "f4e22d34",
   "metadata": {},
   "outputs": [
    {
     "name": "stdout",
     "output_type": "stream",
     "text": [
      "Beginning file download with urllib2...\n"
     ]
    }
   ],
   "source": [
    "import urllib.request\n",
    "\n",
    "print('Beginning file download with urllib2...')\n",
    "\n",
    "url = 'https://raw.githubusercontent.com/CSSEGISandData/COVID-19/master/csse_covid_19_data/csse_covid_19_time_series/time_series_covid19_deaths_global.csv'\n",
    "urllib.request.urlretrieve(url, 'assets/covid.csv')\n",
    "import csv\n",
    "%precision 2\n",
    "with open ('assets/covid.csv', \"r\") as file:\n",
    "    deaths = list(csv.DictReader(file))\n",
    "\n",
    "    \n"
   ]
  },
  {
   "cell_type": "code",
   "execution_count": 23,
   "id": "a49845ff",
   "metadata": {},
   "outputs": [
    {
     "name": "stdout",
     "output_type": "stream",
     "text": [
      "country_name India\n"
     ]
    },
    {
     "data": {
      "text/plain": [
       "251"
      ]
     },
     "execution_count": 23,
     "metadata": {},
     "output_type": "execute_result"
    }
   ],
   "source": [
    "import datetime as dt\n",
    "\n",
    "def get_death_by_country_name(country_name):\n",
    "    # download file\n",
    "    # read file\n",
    "    # return death of country_name fomr yesterday\n",
    "    print('country_name', country_name)\n",
    "    filtered_list= list(filter(lambda country:  country['Country/Region']== country_name ,deaths))\n",
    "    country = filtered_list[0]\n",
    "    deathes_lastday= int(country['10/31/21'])-int(country['10/30/21'])\n",
    "    \n",
    "    yesterday= dt.datetime.now() - dt.timedelta(days=1)\n",
    "    for_yesterday= dt.datetime.now() - dt.timedelta(days=2)\n",
    "    deaths_yesterday= int(country[yesterday.strftime(\"%m/%d/%y\")]) - int(country[for_yesterday.strftime(\"%m/%d/%y\")])\n",
    "\n",
    "                                                  \n",
    "    return deaths_yesterday\n",
    "    \n",
    "get_death_by_country_name(\"India\")"
   ]
  },
  {
   "cell_type": "code",
   "execution_count": null,
   "id": "7da71478",
   "metadata": {},
   "outputs": [],
   "source": []
  },
  {
   "cell_type": "code",
   "execution_count": null,
   "id": "fd9676c0",
   "metadata": {},
   "outputs": [],
   "source": []
  }
 ],
 "metadata": {
  "kernelspec": {
   "display_name": "Python 3",
   "language": "python",
   "name": "python3"
  },
  "language_info": {
   "codemirror_mode": {
    "name": "ipython",
    "version": 3
   },
   "file_extension": ".py",
   "mimetype": "text/x-python",
   "name": "python",
   "nbconvert_exporter": "python",
   "pygments_lexer": "ipython3",
   "version": "3.8.8"
  }
 },
 "nbformat": 4,
 "nbformat_minor": 5
}
